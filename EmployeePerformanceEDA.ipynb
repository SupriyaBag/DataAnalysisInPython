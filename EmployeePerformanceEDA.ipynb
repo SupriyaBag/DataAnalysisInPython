{
 "cells": [
  {
   "cell_type": "markdown",
   "id": "f4fcf444-26f4-44ca-a4db-cb775e594aa3",
   "metadata": {},
   "source": [
    "## Employee's Performance -EDA"
   ]
  },
  {
   "cell_type": "markdown",
   "id": "97cc6039-f97b-436c-bf62-a83f1596feef",
   "metadata": {},
   "source": [
    "### Importing necessary libraries"
   ]
  },
  {
   "cell_type": "code",
   "execution_count": 4,
   "id": "9207a4d0-6761-49ef-b50e-2cca4d697704",
   "metadata": {},
   "outputs": [],
   "source": [
    "import pandas as pd\n",
    "import numpy as np\n",
    "import matplotlib.pyplot as plt\n",
    "import seaborn as sns"
   ]
  },
  {
   "cell_type": "markdown",
   "id": "3ed377b9-ad59-4110-9cf3-eadcd747da84",
   "metadata": {},
   "source": [
    "### --- 1. Data Loading"
   ]
  },
  {
   "cell_type": "code",
   "execution_count": 7,
   "id": "d63acb2e-5736-4bcd-b361-58e1c09cb53e",
   "metadata": {},
   "outputs": [
    {
     "name": "stdout",
     "output_type": "stream",
     "text": [
      "--- 1. Data Loading ---\n",
      "Dataset loaded successfully.\n"
     ]
    }
   ],
   "source": [
    "print(\"--- 1. Data Loading ---\")\n",
    "try:\n",
    "    df = pd.read_csv(r\"C:\\Users\\bagsu\\Downloads\\Test_data.csv\")\n",
    "    print(\"Dataset loaded successfully.\")\n",
    "except FileNotFoundError:\n",
    "    print(\"Error: 'Test_data.csv' not found. Please make sure the file is in the same directory as the script.\")\n",
    "    exit() # Exit if the file is not found\n"
   ]
  },
  {
   "cell_type": "markdown",
   "id": "7f98bfca-426b-4e5b-aa62-db6dd2605542",
   "metadata": {},
   "source": [
    "### --- 2. Initial Data Inspection ---"
   ]
  },
  {
   "cell_type": "code",
   "execution_count": 11,
   "id": "f335149d-76c4-43a6-8744-6d7926f0c11f",
   "metadata": {},
   "outputs": [
    {
     "name": "stdout",
     "output_type": "stream",
     "text": [
      "\n",
      "--- 2. Initial Data Inspection ---\n",
      "\n",
      "First 5 rows of the dataset:\n",
      "   employee_id         department     region   education gender  \\\n",
      "0         8724         Technology  region_26  Bachelor's      m   \n",
      "1        74430                 HR   region_4  Bachelor's      f   \n",
      "2        72255  Sales & Marketing  region_13  Bachelor's      m   \n",
      "3        38562        Procurement   region_2  Bachelor's      f   \n",
      "4        64486            Finance  region_29  Bachelor's      m   \n",
      "\n",
      "  recruitment_channel  no_of_trainings  age  previous_year_rating  \\\n",
      "0            sourcing                1   24                   NaN   \n",
      "1               other                1   31                   3.0   \n",
      "2               other                1   31                   1.0   \n",
      "3               other                3   31                   2.0   \n",
      "4            sourcing                1   30                   4.0   \n",
      "\n",
      "   length_of_service  KPIs_met >80%  awards_won?  avg_training_score  \n",
      "0                  1              1            0                  77  \n",
      "1                  5              0            0                  51  \n",
      "2                  4              0            0                  47  \n",
      "3                  9              0            0                  65  \n",
      "4                  7              0            0                  61  \n",
      "\n",
      "Dataset Info:\n",
      "<class 'pandas.core.frame.DataFrame'>\n",
      "RangeIndex: 23490 entries, 0 to 23489\n",
      "Data columns (total 13 columns):\n",
      " #   Column                Non-Null Count  Dtype  \n",
      "---  ------                --------------  -----  \n",
      " 0   employee_id           23490 non-null  int64  \n",
      " 1   department            23490 non-null  object \n",
      " 2   region                23490 non-null  object \n",
      " 3   education             22456 non-null  object \n",
      " 4   gender                23490 non-null  object \n",
      " 5   recruitment_channel   23490 non-null  object \n",
      " 6   no_of_trainings       23490 non-null  int64  \n",
      " 7   age                   23490 non-null  int64  \n",
      " 8   previous_year_rating  21678 non-null  float64\n",
      " 9   length_of_service     23490 non-null  int64  \n",
      " 10  KPIs_met >80%         23490 non-null  int64  \n",
      " 11  awards_won?           23490 non-null  int64  \n",
      " 12  avg_training_score    23490 non-null  int64  \n",
      "dtypes: float64(1), int64(7), object(5)\n",
      "memory usage: 2.3+ MB\n",
      "\n",
      "Summary Statistics for Numerical Columns:\n",
      "        employee_id  no_of_trainings           age  previous_year_rating  \\\n",
      "count  23490.000000     23490.000000  23490.000000          21678.000000   \n",
      "mean   39041.399149         1.254236     34.782929              3.339146   \n",
      "std    22640.809201         0.600910      7.679492              1.263294   \n",
      "min        3.000000         1.000000     20.000000              1.000000   \n",
      "25%    19370.250000         1.000000     29.000000              3.000000   \n",
      "50%    38963.500000         1.000000     33.000000              3.000000   \n",
      "75%    58690.000000         1.000000     39.000000              4.000000   \n",
      "max    78295.000000         9.000000     60.000000              5.000000   \n",
      "\n",
      "       length_of_service  KPIs_met >80%   awards_won?  avg_training_score  \n",
      "count       23490.000000   23490.000000  23490.000000        23490.000000  \n",
      "mean            5.810387       0.358834      0.022776           63.263133  \n",
      "std             4.207917       0.479668      0.149191           13.411750  \n",
      "min             1.000000       0.000000      0.000000           39.000000  \n",
      "25%             3.000000       0.000000      0.000000           51.000000  \n",
      "50%             5.000000       0.000000      0.000000           60.000000  \n",
      "75%             7.000000       1.000000      0.000000           76.000000  \n",
      "max            34.000000       1.000000      1.000000           99.000000  \n",
      "\n",
      "Unique Values and Counts for Categorical Columns:\n",
      "\n",
      "Column: department\n",
      "department\n",
      "Sales & Marketing    7315\n",
      "Operations           4764\n",
      "Procurement          3020\n",
      "Technology           3011\n",
      "Analytics            2319\n",
      "Finance              1091\n",
      "HR                   1085\n",
      "Legal                 445\n",
      "R&D                   440\n",
      "Name: count, dtype: int64\n",
      "\n",
      "Column: region\n",
      "region\n",
      "region_2     5299\n",
      "region_22    2739\n",
      "region_7     1982\n",
      "region_13    1167\n",
      "region_15    1130\n",
      "region_26    1011\n",
      "region_31     844\n",
      "region_4      775\n",
      "region_27     710\n",
      "region_28     595\n",
      "region_16     590\n",
      "region_11     571\n",
      "region_23     516\n",
      "region_32     433\n",
      "region_29     414\n",
      "region_19     410\n",
      "region_17     361\n",
      "region_14     350\n",
      "region_5      342\n",
      "region_25     337\n",
      "region_20     326\n",
      "region_6      298\n",
      "region_30     273\n",
      "region_8      269\n",
      "region_10     269\n",
      "region_1      238\n",
      "region_24     219\n",
      "region_12     215\n",
      "region_9      180\n",
      "region_21     179\n",
      "region_34     155\n",
      "region_3      147\n",
      "region_33     126\n",
      "region_18      20\n",
      "Name: count, dtype: int64\n",
      "\n",
      "Column: education\n",
      "education\n",
      "Bachelor's          15578\n",
      "Master's & above     6504\n",
      "Below Secondary       374\n",
      "Name: count, dtype: int64\n",
      "\n",
      "Column: gender\n",
      "gender\n",
      "m    16596\n",
      "f     6894\n",
      "Name: count, dtype: int64\n",
      "\n",
      "Column: recruitment_channel\n",
      "recruitment_channel\n",
      "other       13078\n",
      "sourcing     9961\n",
      "referred      451\n",
      "Name: count, dtype: int64\n"
     ]
    }
   ],
   "source": [
    "print(\"\\n--- 2. Initial Data Inspection ---\")\n",
    "print(\"\\nFirst 5 rows of the dataset:\")\n",
    "print(df.head())\n",
    "\n",
    "print(\"\\nDataset Info:\")\n",
    "df.info()\n",
    "\n",
    "print(\"\\nSummary Statistics for Numerical Columns:\")\n",
    "print(df.describe())\n",
    "\n",
    "# Identify numerical and categorical columns\n",
    "numerical_cols = df.select_dtypes(include=np.number).columns\n",
    "categorical_cols = df.select_dtypes(include='object').columns\n",
    "\n",
    "print(\"\\nUnique Values and Counts for Categorical Columns:\")\n",
    "for column in categorical_cols:\n",
    "    print(f\"\\nColumn: {column}\")\n",
    "    print(df[column].value_counts())"
   ]
  },
  {
   "cell_type": "markdown",
   "id": "3d252b0d-24e9-4020-9425-7c367fdf58a4",
   "metadata": {},
   "source": [
    "### --- 3. Missing Value Analysis and Handling ---"
   ]
  },
  {
   "cell_type": "code",
   "execution_count": 21,
   "id": "0fa9f929-cc71-437e-ba2f-32eb84203dc8",
   "metadata": {},
   "outputs": [
    {
     "name": "stdout",
     "output_type": "stream",
     "text": [
      "\n",
      "--- 3. Missing Value Analysis and Handling ---\n",
      "\n",
      "Missing Values before imputation:\n",
      "employee_id                0\n",
      "department                 0\n",
      "region                     0\n",
      "education               1034\n",
      "gender                     0\n",
      "recruitment_channel        0\n",
      "no_of_trainings            0\n",
      "age                        0\n",
      "previous_year_rating       0\n",
      "length_of_service          0\n",
      "KPIs_met >80%              0\n",
      "awards_won?                0\n",
      "avg_training_score         0\n",
      "dtype: int64\n",
      "Missing Values Heatmap saved as 'missing_values_heatmap.png'\n",
      "\n",
      "Missing Values after imputation:\n",
      "employee_id                0\n",
      "department                 0\n",
      "region                     0\n",
      "education               1034\n",
      "gender                     0\n",
      "recruitment_channel        0\n",
      "no_of_trainings            0\n",
      "age                        0\n",
      "previous_year_rating       0\n",
      "length_of_service          0\n",
      "KPIs_met >80%              0\n",
      "awards_won?                0\n",
      "avg_training_score         0\n",
      "dtype: int64\n"
     ]
    }
   ],
   "source": [
    "print(\"\\n--- 3. Missing Value Analysis and Handling ---\")\n",
    "print(\"\\nMissing Values before imputation:\")\n",
    "print(df.isnull().sum())\n",
    "\n",
    "# Visualize missing values (if any)\n",
    "plt.figure(figsize=(10, 6))\n",
    "sns.heatmap(df.isnull(), cbar=False, cmap='viridis')\n",
    "plt.title('Missing Values Heatmap')\n",
    "plt.savefig('missing_values_heatmap.png') # Save the plot\n",
    "plt.close() # Close the plot to free memory\n",
    "print(\"Missing Values Heatmap saved as 'missing_values_heatmap.png'\")\n",
    "\n",
    "# Impute missing values in 'previous_year_rating' with the mode\n",
    "if 'previous_year_rating' in df.columns and df['previous_year_rating'].isnull().any():\n",
    "    mode_rating = df['previous_year_rating'].mode()[0]\n",
    "    # UPDATED LINE: Assign the result back to the column\n",
    "    df['previous_year_rating'] = df['previous_year_rating'].fillna(mode_rating)\n",
    "    print(f\"\\nMissing values in 'previous_year_rating' imputed with mode: {mode_rating}\")\n",
    "\n",
    "print(\"\\nMissing Values after imputation:\")\n",
    "print(df.isnull().sum())"
   ]
  },
  {
   "cell_type": "markdown",
   "id": "0ac58e91-9836-4a2a-9cff-a523d54047cb",
   "metadata": {},
   "source": [
    "### --- 4. Univariate Visualizations (Distributions) ---"
   ]
  },
  {
   "cell_type": "code",
   "execution_count": 25,
   "id": "1dc262f9-2e5a-4973-922e-b08639554a80",
   "metadata": {},
   "outputs": [
    {
     "name": "stdout",
     "output_type": "stream",
     "text": [
      "\n",
      "--- 4. Univariate Visualizations (Distributions) ---\n",
      "Generating Histograms for Numerical Features...\n",
      "Histograms saved as 'numerical_histograms.png'\n",
      "Generating Count Plots for Categorical Features...\n",
      "Count plots for all categorical features saved (e.g., 'count_plot_department.png').\n"
     ]
    }
   ],
   "source": [
    "print(\"\\n--- 4. Univariate Visualizations (Distributions) ---\")\n",
    "\n",
    "# Histograms for Numerical Features\n",
    "print(\"Generating Histograms for Numerical Features...\")\n",
    "df[numerical_cols].hist(bins=30, figsize=(15, 10))\n",
    "plt.suptitle('Histograms of Numerical Features', y=1.02)\n",
    "plt.tight_layout(rect=[0, 0.03, 1, 0.95])\n",
    "plt.savefig('numerical_histograms.png')\n",
    "plt.close()\n",
    "print(\"Histograms saved as 'numerical_histograms.png'\")\n",
    "\n",
    "\n",
    "# Count Plots for Categorical Features\n",
    "print(\"Generating Count Plots for Categorical Features...\")\n",
    "for i, col in enumerate(categorical_cols):\n",
    "    plt.figure(figsize=(10, 6))\n",
    "    # UPDATED LINE: Assign y to hue and set legend=False\n",
    "    sns.countplot(y=col, data=df, order=df[col].value_counts().index, palette='viridis', hue=col, legend=False)\n",
    "    plt.title(f'Count Plot for {col}')\n",
    "    plt.xlabel('Count')\n",
    "    plt.ylabel(col)\n",
    "    plt.tight_layout()\n",
    "    plt.savefig(f'count_plot_{col}.png')\n",
    "    plt.close()\n",
    "print(f\"Count plots for all categorical features saved (e.g., 'count_plot_department.png').\")\n"
   ]
  },
  {
   "cell_type": "markdown",
   "id": "6e4146a2-d9ef-48c9-82a9-8d66125e8e98",
   "metadata": {},
   "source": [
    "### --- 5. Bivariate and Multivariate Analysis (Relationships) ---"
   ]
  },
  {
   "cell_type": "code",
   "execution_count": 28,
   "id": "0dfaf2c1-dd81-42fd-a3bd-4e0947d5bfeb",
   "metadata": {},
   "outputs": [
    {
     "name": "stdout",
     "output_type": "stream",
     "text": [
      "\n",
      "--- 5. Bivariate and Multivariate Analysis (Relationships) ---\n",
      "Generating Correlation Matrix...\n",
      "Correlation Matrix saved as 'correlation_matrix.png'\n",
      "Generating Box Plot: Average Training Score by Department...\n"
     ]
    },
    {
     "name": "stderr",
     "output_type": "stream",
     "text": [
      "C:\\Users\\bagsu\\AppData\\Local\\Temp\\ipykernel_17420\\1391086446.py:15: FutureWarning: \n",
      "\n",
      "Passing `palette` without assigning `hue` is deprecated and will be removed in v0.14.0. Assign the `y` variable to `hue` and set `legend=False` for the same effect.\n",
      "\n",
      "  sns.boxplot(x='avg_training_score', y='department', data=df, palette='pastel')\n"
     ]
    },
    {
     "name": "stdout",
     "output_type": "stream",
     "text": [
      "Box Plot 'avg_training_score_by_department_boxplot.png' saved.\n",
      "Generating Count Plot: Department Distribution by Education Level...\n",
      "Count Plot 'department_education_countplot.png' saved.\n",
      "Generating Box Plot: Average Training Score by KPIs Met...\n"
     ]
    },
    {
     "name": "stderr",
     "output_type": "stream",
     "text": [
      "C:\\Users\\bagsu\\AppData\\Local\\Temp\\ipykernel_17420\\1391086446.py:42: FutureWarning: \n",
      "\n",
      "Passing `palette` without assigning `hue` is deprecated and will be removed in v0.14.0. Assign the `x` variable to `hue` and set `legend=False` for the same effect.\n",
      "\n",
      "  sns.boxplot(x='KPIs_met >80%', y='avg_training_score', data=df, palette='viridis')\n"
     ]
    },
    {
     "name": "stdout",
     "output_type": "stream",
     "text": [
      "Box Plot 'avg_training_score_by_kpis_met_boxplot.png' saved.\n",
      "Generating Count Plot: Department Distribution by KPIs Met...\n",
      "Count Plot 'department_kpis_met_countplot.png' saved.\n",
      "\n",
      "EDA process completed. All plots are saved in the current directory.\n"
     ]
    }
   ],
   "source": [
    "print(\"\\n--- 5. Bivariate and Multivariate Analysis (Relationships) ---\")\n",
    "\n",
    "# Correlation Matrix for Numerical Features\n",
    "print(\"Generating Correlation Matrix...\")\n",
    "plt.figure(figsize=(12, 10))\n",
    "sns.heatmap(df[numerical_cols].corr(), annot=True, cmap='coolwarm', fmt=\".2f\", linewidths=.5)\n",
    "plt.title('Correlation Matrix of Numerical Features')\n",
    "plt.savefig('correlation_matrix.png')\n",
    "plt.close()\n",
    "print(\"Correlation Matrix saved as 'correlation_matrix.png'\")\n",
    "\n",
    "# Example: Relationship between a categorical and numerical feature (e.g., department and avg_training_score)\n",
    "print(\"Generating Box Plot: Average Training Score by Department...\")\n",
    "plt.figure(figsize=(12, 7))\n",
    "sns.boxplot(x='avg_training_score', y='department', data=df, palette='pastel')\n",
    "plt.title('Average Training Score by Department')\n",
    "plt.xlabel('Average Training Score')\n",
    "plt.ylabel('Department')\n",
    "plt.tight_layout()\n",
    "plt.savefig('avg_training_score_by_department_boxplot.png')\n",
    "plt.close()\n",
    "print(\"Box Plot 'avg_training_score_by_department_boxplot.png' saved.\")\n",
    "\n",
    "# Example: Relationship between two categorical features (e.g., department and education)\n",
    "print(\"Generating Count Plot: Department Distribution by Education Level...\")\n",
    "plt.figure(figsize=(15, 8))\n",
    "sns.countplot(x='department', hue='education', data=df, palette='tab10')\n",
    "plt.title('Department Distribution by Education Level')\n",
    "plt.xlabel('Department')\n",
    "plt.ylabel('Count')\n",
    "plt.xticks(rotation=45, ha='right')\n",
    "plt.legend(title='Education')\n",
    "plt.tight_layout()\n",
    "plt.savefig('department_education_countplot.png')\n",
    "plt.close()\n",
    "print(\"Count Plot 'department_education_countplot.png' saved.\")\n",
    "\n",
    "# Example: Relationship with KPI_met >80% (assuming it's a key outcome)\n",
    "if 'KPIs_met >80%' in df.columns:\n",
    "    print(\"Generating Box Plot: Average Training Score by KPIs Met...\")\n",
    "    plt.figure(figsize=(8, 6))\n",
    "    sns.boxplot(x='KPIs_met >80%', y='avg_training_score', data=df, palette='viridis')\n",
    "    plt.title('Average Training Score by KPIs Met (>80%)')\n",
    "    plt.xlabel('KPIs Met (>80%)')\n",
    "    plt.ylabel('Average Training Score')\n",
    "    plt.xticks(ticks=[0, 1], labels=['No', 'Yes'])\n",
    "    plt.tight_layout()\n",
    "    plt.savefig('avg_training_score_by_kpis_met_boxplot.png')\n",
    "    plt.close()\n",
    "    print(\"Box Plot 'avg_training_score_by_kpis_met_boxplot.png' saved.\")\n",
    "\n",
    "    print(\"Generating Count Plot: Department Distribution by KPIs Met...\")\n",
    "    plt.figure(figsize=(15, 8))\n",
    "    sns.countplot(x='department', hue='KPIs_met >80%', data=df, palette='magma')\n",
    "    plt.title('Department Distribution by KPIs Met (>80%)')\n",
    "    plt.xlabel('Department')\n",
    "    plt.ylabel('Count')\n",
    "    plt.xticks(rotation=45, ha='right')\n",
    "    plt.legend(title='KPIs Met (>80%)', labels=['No', 'Yes'])\n",
    "    plt.tight_layout()\n",
    "    plt.savefig('department_kpis_met_countplot.png')\n",
    "    plt.close()\n",
    "    print(\"Count Plot 'department_kpis_met_countplot.png' saved.\")\n",
    "\n",
    "print(\"\\nEDA process completed. All plots are saved in the current directory.\")"
   ]
  },
  {
   "cell_type": "code",
   "execution_count": null,
   "id": "7d836a99-0d76-40e7-a157-593c4518c882",
   "metadata": {},
   "outputs": [],
   "source": []
  }
 ],
 "metadata": {
  "kernelspec": {
   "display_name": "Python [conda env:base] *",
   "language": "python",
   "name": "conda-base-py"
  },
  "language_info": {
   "codemirror_mode": {
    "name": "ipython",
    "version": 3
   },
   "file_extension": ".py",
   "mimetype": "text/x-python",
   "name": "python",
   "nbconvert_exporter": "python",
   "pygments_lexer": "ipython3",
   "version": "3.12.7"
  }
 },
 "nbformat": 4,
 "nbformat_minor": 5
}
